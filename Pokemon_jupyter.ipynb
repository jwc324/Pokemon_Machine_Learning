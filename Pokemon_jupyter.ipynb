{
 "cells": [
  {
   "cell_type": "code",
   "execution_count": 4,
   "metadata": {},
   "outputs": [],
   "source": [
    "import pandas as pd\n",
    "from pathlib import Path\n",
    "import matplotlib.pyplot as plt\n",
    "from sklearn.linear_model import LinearRegression"
   ]
  },
  {
   "cell_type": "code",
   "execution_count": 8,
   "metadata": {},
   "outputs": [
    {
     "data": {
      "text/plain": [
       "<bound method NDFrame.head of       index_column  pokedex_number                            name  \\\n",
       "0                0               1                       Bulbasaur   \n",
       "1                1               2                         Ivysaur   \n",
       "2                2               3                        Venusaur   \n",
       "3                3               3                   Mega Venusaur   \n",
       "4                4               4                      Charmander   \n",
       "...            ...             ...                             ...   \n",
       "1023          1023             888     Zacian Hero of Many Battles   \n",
       "1024          1024             889        Zamazenta Crowned Shield   \n",
       "1025          1025             889  Zamazenta Hero of Many Battles   \n",
       "1026          1026             890                       Eternatus   \n",
       "1027          1027             890             Eternatus Eternamax   \n",
       "\n",
       "     german_name        japanese_name  generation  is_sub_legendary  \\\n",
       "0        Bisasam  フシギダネ (Fushigidane)           1                 0   \n",
       "1      Bisaknosp   フシギソウ (Fushigisou)           1                 0   \n",
       "2       Bisaflor  フシギバナ (Fushigibana)           1                 0   \n",
       "3       Bisaflor  フシギバナ (Fushigibana)           1                 0   \n",
       "4       Glumanda      ヒトカゲ (Hitokage)           1                 0   \n",
       "...          ...                  ...         ...               ...   \n",
       "1023         NaN                  NaN           8                 0   \n",
       "1024         NaN                  NaN           8                 0   \n",
       "1025         NaN                  NaN           8                 0   \n",
       "1026         NaN                  NaN           8                 0   \n",
       "1027         NaN                  NaN           8                 0   \n",
       "\n",
       "      is_legendary  is_mythical           species  ...  against_ground  \\\n",
       "0                0            0      Seed Pokémon  ...             1.0   \n",
       "1                0            0      Seed Pokémon  ...             1.0   \n",
       "2                0            0      Seed Pokémon  ...             1.0   \n",
       "3                0            0      Seed Pokémon  ...             1.0   \n",
       "4                0            0    Lizard Pokémon  ...             2.0   \n",
       "...            ...          ...               ...  ...             ...   \n",
       "1023             1            0   Warrior Pokémon  ...             1.0   \n",
       "1024             1            0   Warrior Pokémon  ...             2.0   \n",
       "1025             1            0   Warrior Pokémon  ...             1.0   \n",
       "1026             1            0  Gigantic Pokémon  ...             2.0   \n",
       "1027             1            0  Gigantic Pokémon  ...             2.0   \n",
       "\n",
       "     against_flying against_psychic  against_bug  against_rock  against_ghost  \\\n",
       "0               2.0             2.0         1.00          1.00            1.0   \n",
       "1               2.0             2.0         1.00          1.00            1.0   \n",
       "2               2.0             2.0         1.00          1.00            1.0   \n",
       "3               2.0             2.0         1.00          1.00            1.0   \n",
       "4               1.0             1.0         0.50          2.00            1.0   \n",
       "...             ...             ...          ...           ...            ...   \n",
       "1023            1.0             1.0         0.50          1.00            1.0   \n",
       "1024            1.0             1.0         0.25          0.25            1.0   \n",
       "1025            2.0             2.0         0.50          0.50            1.0   \n",
       "1026            1.0             2.0         0.50          1.00            1.0   \n",
       "1027            1.0             2.0         0.50          1.00            1.0   \n",
       "\n",
       "     against_dragon against_dark against_steel  against_fairy  \n",
       "0               1.0          1.0           1.0            0.5  \n",
       "1               1.0          1.0           1.0            0.5  \n",
       "2               1.0          1.0           1.0            0.5  \n",
       "3               1.0          1.0           1.0            0.5  \n",
       "4               1.0          1.0           0.5            0.5  \n",
       "...             ...          ...           ...            ...  \n",
       "1023            0.0          0.5           2.0            1.0  \n",
       "1024            0.5          0.5           0.5            1.0  \n",
       "1025            1.0          0.5           1.0            2.0  \n",
       "1026            2.0          1.0           1.0            1.0  \n",
       "1027            2.0          1.0           1.0            1.0  \n",
       "\n",
       "[1028 rows x 53 columns]>"
      ]
     },
     "execution_count": 8,
     "metadata": {},
     "output_type": "execute_result"
    }
   ],
   "source": [
    "df = pd.read_csv(Path('./data_files/pokedex_(Update.04.20).csv'))\n",
    "df.head"
   ]
  },
  {
   "cell_type": "code",
   "execution_count": null,
   "metadata": {},
   "outputs": [],
   "source": []
  }
 ],
 "metadata": {
  "kernelspec": {
   "display_name": "mlenv",
   "language": "python",
   "name": "mlenv"
  },
  "language_info": {
   "codemirror_mode": {
    "name": "ipython",
    "version": 3
   },
   "file_extension": ".py",
   "mimetype": "text/x-python",
   "name": "python",
   "nbconvert_exporter": "python",
   "pygments_lexer": "ipython3",
   "version": "3.7.10"
  }
 },
 "nbformat": 4,
 "nbformat_minor": 4
}
